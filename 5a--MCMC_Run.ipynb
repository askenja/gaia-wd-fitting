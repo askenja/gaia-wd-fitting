{
 "cells": [
  {
   "cell_type": "code",
   "execution_count": 1,
   "id": "3738af6b",
   "metadata": {},
   "outputs": [
    {
     "name": "stdout",
     "output_type": "stream",
     "text": [
      "\n",
      "Parameter file(s) : ok.\n",
      "Number of parameters =  66 , among them technical =  7\n",
      "\n",
      " p(run_mode=0, out_dir='new_metgrid', out_mode=1, nprocess=4, Rsun=8.2, zsun=20, zmax=2000, dz=2, sigmad=29.3, sigmat=4.9, sigmag1=2.0, sigmag2=11.0, sigmadh=51.9, sigmash=0.47, td1=0, td2=7.8, dzeta=0.8, eta=5.6, pkey=1, tt1=0.1, tt2=4, gamma=2, beta=3.5, imfkey=0, a0=1.31, a1=1.5, a2=2.88, a3=2.28, m0=0.49, m1=1.43, m2=6.0, dFeHdt=0, n_FeHdt=1, fehkey=0, FeHd0=-0.7, FeHdp=0.29, rd=0.34, q=-0.72, FeHt0=-0.94, FeHtp=0.04, rt=0.77, t0=0.97, FeHsh=-1.5, dFeHsh=0.4, n_FeHsh=5, alpha=0.375, sige=26.0, sigt=45, sigdh=140, sigsh=100, sigmap=array([3.5, 1.3]), tpk=array([10. , 12.5]), dtp=array([0.7 , 0.25]), sigp=array([26.3, 12.6]))\n",
      "\n",
      "Parameters checked: 0 Reminders, 0 Warnings, 0 Errors.\n",
      "\n",
      "Configuration finished:  0h 0m 0.0s\n"
     ]
    }
   ],
   "source": [
    "import os\n",
    "import emcee\n",
    "import warnings\n",
    "import numpy as np \n",
    "from multiprocessing import Pool\n",
    "\n",
    "from jjmodel.tools import Timer\n",
    "from jjmodel.input_ import p, a, inp\n",
    "from jjmodel.mwdisk import disk_builder\n",
    "from optimizer import posterior, initialize_params, mcmc_runner\n",
    "from helpers import (ParHandler, IFMRHandler, MSAgeHandler, \n",
    "                     IMFHandler, SFRHandler, PopHandler, MCMCLogger, HessConstructor)\n",
    "from prior import prior"
   ]
  },
  {
   "cell_type": "code",
   "execution_count": 2,
   "id": "86e866e4",
   "metadata": {},
   "outputs": [],
   "source": [
    "timer = Timer()\n",
    "t1 = timer.start()"
   ]
  },
  {
   "cell_type": "code",
   "execution_count": 3,
   "id": "5fbbf163",
   "metadata": {},
   "outputs": [],
   "source": [
    "# Parameters\n",
    "# ---------------------------------------------------------------------\n",
    "# General\n",
    "mode_iso = 'Padova'  # Isochrones for MS and giants; WD always Montreal\n",
    "mode_pop = 'tot'     # Modeled populations: 'tot' = all, 'wd' = only WDs, 'ms' = only MS + giants\n",
    "FeH_scatter = 0.07   # Scatter added to AMR of thin and thick disks\n",
    "Nmet_dt = 7          # Number of metallicities per age bin\n",
    "radius = 50          # Radius of the modeled sphere, pc\n",
    "mag_range = [[-0.4,1.65],[-1,18]]   # Hess diagram xy-ranges in (G-G_RP, M_G), mag\n",
    "mag_step = [0.02,0.2]               # Steps in (G-G_RP, M_G), mag\n",
    "mag_smooth = [0.06,0.8]             # Smoothing window size in (G-G_RP, M_G), mag\n",
    "# WD \n",
    "f_da_teff = False    # If True fraction of DA/DB WDs is a function of Teff\n",
    "age_ms_param_file = 'MS_lifetime_padova_new_metgrid/analysis/'+\\\n",
    "                    'fit_v1_Mbr1.18/tau_ms_params_v1_Mbr1.18.txt' # Parameters for MS lifetime fits\n",
    "# MCMC setup\n",
    "mode_init = 'blob'          # Blob arournd means or random\n",
    "blob_f_sig = 0.5            # Defines blob size\n",
    "n_max = 10                  # Max number of iterations\n",
    "dir_out = 'output/mcmc'     # Dir for output\n",
    "save_log = True             # Save all tested parameter combinations\n",
    "# ---------------------------------------------------------------------"
   ]
  },
  {
   "cell_type": "code",
   "execution_count": 15,
   "id": "6464eeda",
   "metadata": {},
   "outputs": [],
   "source": [
    "# Choose parameters for MCMC optimization\n",
    "# ------------------------------------------\n",
    "par_optim = {\n",
    "    'ifmr':         ['m_br1', 'm_br2', 'alpha1', 'alpha2', 'alpha3'],\n",
    "    'dcool':        ['alpha_cool'],\n",
    "    'f_dadb':       ['f_da'],\n",
    "    'sfr': {'d':    ['dzeta','eta','td2','sigmap0','tpk0'],\n",
    "            't':    ['gamma','beta','tt1']},\n",
    "    'imf':          ['a0', 'a1', 'a2', 'm0', 'm1']  \n",
    "}\n",
    "\n",
    "par_handler = ParHandler(par_optim,prior)\n",
    "labels = par_handler.get_flat_param_list()\n",
    "params_mean, params_sigma = par_handler.get_prior_for_params()"
   ]
  },
  {
   "cell_type": "code",
   "execution_count": 16,
   "id": "9700d7ff",
   "metadata": {},
   "outputs": [],
   "source": [
    "# Finish MCMC setup based on parameter list\n",
    "ndim = len(labels)\n",
    "nwalkers = 4*ndim\n",
    "n_cores = 8\n",
    "#n_cores = int(os.environ.get(\"SLURM_CPUS_ON_NODE\", 1))\n",
    "\n",
    "# Create output directory\n",
    "os.makedirs(dir_out,exist_ok=True)\n",
    "\n",
    "# Create logger\n",
    "logger = MCMCLogger(dir_out=dir_out)\n",
    "logfile = logger.manage_logfile(save_log)\n",
    "\n",
    "# Save simulation card \n",
    "logger.save_simulation_card(par_optim,mode_iso=mode_iso,mode_pop=mode_pop,\n",
    "                            radius=radius,FeH_scatter=FeH_scatter,Nmet_dt=Nmet_dt,\n",
    "                            mag_range=mag_range,mag_step=mag_step,mag_smooth=mag_smooth,\n",
    "                            age_ms_param_file=age_ms_param_file,f_da_teff=f_da_teff,\n",
    "                            save_log=save_log,logfile=logfile,\n",
    "                            mode_init=mode_init,blob_f_sig=blob_f_sig,\n",
    "                            ndim=ndim,nwalkers=nwalkers,n_cores=n_cores,n_max=n_max\n",
    "                            )"
   ]
  },
  {
   "cell_type": "code",
   "execution_count": 17,
   "id": "1ccb8aae",
   "metadata": {},
   "outputs": [],
   "source": [
    "# Initialize SFR, IMF and population handlers\n",
    "\n",
    "ifmr_handler = IFMRHandler()\n",
    "msage_handler = MSAgeHandler(param_file=age_ms_param_file)\n",
    "imf_handler = IMFHandler(p)\n",
    "sfr_handler = SFRHandler(p, a, inp)\n",
    "pop_handler = PopHandler(p, a, inp)\n",
    "constructor = HessConstructor(radius, p, a)\n",
    "\n",
    "SFR_ref = sfr_handler.create_reference_sfr()\n",
    "imf_ref, (mass_binsc, IMF_ref) = imf_handler.create_reference_imf()\n",
    "\n",
    "# Load observed Hess diagram \n",
    "hess_ref = np.loadtxt('./data/hess/hess_' + mode_pop + '.txt')"
   ]
  },
  {
   "cell_type": "code",
   "execution_count": 7,
   "id": "a215c518",
   "metadata": {},
   "outputs": [
    {
     "name": "stdout",
     "output_type": "stream",
     "text": [
      "Results of this run will be saved to already existing folder output/Rsun8.2_new_metgrid\n",
      "\n",
      "Output directory tree created.\n",
      "\n",
      "---Local run---\n",
      "\n",
      "  Process for R = 8.2 kpc: start       \n",
      "    Process for R = 8.2 kpc: fimax optimized\n",
      "      Process for R = 8.2 kpc: PE solved   \n",
      "        Process 8.2   : exit, time: 0h 0m 0.17s\n",
      "\n",
      "\n",
      "Input data saved.\n",
      "\n",
      "Output data saved.\n",
      "\n",
      "---Local run ended sucessfully---\n",
      "\n",
      "\n",
      "Stellar population synthesis for R = 8.2 kpc:\n",
      "Warning. Some of modeled metallicities (halo) are outside of Padova metallicity range [-2.2,0.5], i.e., the adopted best isochrones may be not representative.\n",
      "\tthin disk\tthick disk\thalo\n",
      "\n",
      "\n",
      "WD indices d:\t 309014 235812\n",
      "WD indices t:\t 81552 24550\n",
      "WD indices sh:\t 2003 122\n"
     ]
    }
   ],
   "source": [
    "# Calculate vertical disk structure\n",
    "disk_builder(p,a,inp,status_progress=True)\n",
    "\n",
    "# Prepare parameters for generating populations\n",
    "pop_kwargs = par_handler.prepare_population_kwargs(FeH_scatter=FeH_scatter,\n",
    "                                                   Nmet_dt=Nmet_dt,\n",
    "                                                   mode_pop=mode_pop\n",
    "                                                   )\n",
    "\n",
    "# Create population tables\n",
    "pop_tabs_ref = pop_handler.create_reference_pop_tabs(imf_ref, mode_iso, **pop_kwargs) \n",
    "\n",
    "# Create reference copies for important columns\n",
    "pop_tabs_ref = pop_handler.create_reference_columns(pop_tabs_ref,['N', 'Mini', 'age', 'age_WD'])\n",
    "\n",
    "# Prepare idex columns for reference ages and initial masses\n",
    "indt, indm = pop_handler.get_age_mass_idx(pop_tabs_ref,mass_binsc)\n",
    "\n",
    "# Define DA/DB WD indices\n",
    "ind_wd = pop_handler.make_wd_idx_dict(pop_tabs_ref)\n",
    "pop_handler.display_wd_stats(mode_pop,ind_wd)"
   ]
  },
  {
   "cell_type": "code",
   "execution_count": 18,
   "id": "e5010825",
   "metadata": {},
   "outputs": [],
   "source": [
    "# Prepare parameters for posterior calculation\n",
    "kwargs_post = par_handler. prepare_posterior_kwargs(SFR_ref,IMF_ref,indt,indm,\n",
    "                                                    save_log=save_log,logfile=logfile,\n",
    "                                                    mode_pop=mode_pop,ind_wd=ind_wd,\n",
    "                                                    f_da_teff=f_da_teff,\n",
    "                                                    ifmr_handler=ifmr_handler,\n",
    "                                                    msage_handler=msage_handler\n",
    "                                                    )\n",
    "\n",
    "# Define posterior function for MCMC\n",
    "def probability_for_mcmc(theta):\n",
    "    post, blob = posterior(theta,params_mean,params_sigma,p,a,inp,\n",
    "                           pop_tabs_ref,hess_ref,\n",
    "                           mag_range, mag_step, mag_smooth,\n",
    "                           sfr_handler, imf_handler, pop_handler, par_handler, constructor,\n",
    "                           **kwargs_post\n",
    "                           )\n",
    "    if not np.isfinite(post):\n",
    "        return -np.inf, blob\n",
    "    return post, blob\n"
   ]
  },
  {
   "cell_type": "code",
   "execution_count": 19,
   "id": "561074da",
   "metadata": {},
   "outputs": [],
   "source": [
    "# Initialize MCMC parameters\n",
    "kwargs_init = par_handler.prepare_initialization_kwargs(mode_init,\n",
    "                                                        params_mean,\n",
    "                                                        params_sigma,\n",
    "                                                        labels,\n",
    "                                                        blob_f_sig=blob_f_sig\n",
    "                                                        )\n",
    "pos = initialize_params(mode_init, nwalkers, ndim, **kwargs_init)\n"
   ]
  },
  {
   "cell_type": "code",
   "execution_count": 23,
   "id": "8d1aa7cf",
   "metadata": {},
   "outputs": [
    {
     "name": "stdout",
     "output_type": "stream",
     "text": [
      "-0.8258631137186968 (np.float64(-4.999999999999762e-05),)\n"
     ]
    }
   ],
   "source": [
    "p_test = params_mean + 0.01*params_sigma\n",
    "p1, p2 = probability_for_mcmc(p_test)  # Test run\n",
    "print(p1, p2) # likelihood and prior"
   ]
  },
  {
   "cell_type": "code",
   "execution_count": null,
   "id": "c3ec7011",
   "metadata": {},
   "outputs": [],
   "source": [
    "# Run MCMC!\n",
    "pool = Pool(processes=n_cores) \n",
    "sampler = emcee.EnsembleSampler(nwalkers, ndim, probability_for_mcmc, pool=pool)\n",
    "\n",
    "sampler, autocorr = mcmc_runner(sampler,pos,ndim,n_max)\n"
   ]
  },
  {
   "cell_type": "code",
   "execution_count": 11,
   "id": "a5412b84",
   "metadata": {},
   "outputs": [
    {
     "name": "stdout",
     "output_type": "stream",
     "text": [
      "Acceptance_fraction =  0.3\n",
      "Integrated autocorrelation time could not be estimated\n",
      "\n",
      "               value     +error     -error max_error, %\n",
      "     m_br1      2.808      0.159       0.14        5.7\n",
      "     m_br2      3.658      0.193      0.141        5.3\n",
      "    alpha1      0.087      0.019      0.014       22.1\n",
      "    alpha2      0.184      0.035      0.031       19.3\n",
      "    alpha3      0.084      0.016      0.011       18.5\n",
      "alpha_cool      0.014      0.011      0.035      259.2\n",
      "      f_da      0.806      0.067      0.044        8.4\n",
      "     dzeta      0.833       0.05      0.038        6.0\n",
      "       eta      5.597      0.129      0.153        2.7\n",
      "       td2      7.928      0.878      0.871       11.1\n",
      "   sigmap0        3.5      1.097      1.002       31.3\n",
      "      tpk0      9.941       0.74      0.947        9.5\n",
      "     gamma      2.041      0.605      0.513       29.6\n",
      "      beta      3.505      0.763      0.779       22.2\n",
      "       tt1        0.1      0.028      0.029       29.4\n",
      "        a0      1.276       0.17       0.27       21.2\n",
      "        a1      1.524      0.279      0.225       18.3\n",
      "        a2      2.931      0.295      0.195       10.1\n",
      "        m0      0.495      0.129      0.123       26.0\n",
      "        m1      1.424      0.181      0.129       12.7\n"
     ]
    }
   ],
   "source": [
    "# Check MCMC performance\n",
    "# -------------------------\n",
    "\n",
    "# Get MCMC chains, prior, and posterior \n",
    "chains_flat = logger.get_chains(sampler)\n",
    "\n",
    "# Integrated autocorrelation time and acceptance fraction\n",
    "logger.get_run_stats(sampler,autocorr)\n",
    "\n",
    "# Best parameters\n",
    "logger.get_best_params(chains_flat,labels,params_mean,params_sigma)"
   ]
  },
  {
   "cell_type": "code",
   "execution_count": 12,
   "id": "58250c7f",
   "metadata": {},
   "outputs": [
    {
     "name": "stdout",
     "output_type": "stream",
     "text": [
      "Output saved\n",
      "Execution time: 0h 3m 22.04s\n"
     ]
    }
   ],
   "source": [
    "print('Output saved')\n",
    "print(f'Execution time: {timer.stop(t1)}')"
   ]
  },
  {
   "cell_type": "code",
   "execution_count": null,
   "id": "07a4fc01",
   "metadata": {},
   "outputs": [],
   "source": []
  }
 ],
 "metadata": {
  "kernelspec": {
   "display_name": "env01",
   "language": "python",
   "name": "python3"
  },
  "language_info": {
   "codemirror_mode": {
    "name": "ipython",
    "version": 3
   },
   "file_extension": ".py",
   "mimetype": "text/x-python",
   "name": "python",
   "nbconvert_exporter": "python",
   "pygments_lexer": "ipython3",
   "version": "3.13.5"
  }
 },
 "nbformat": 4,
 "nbformat_minor": 5
}

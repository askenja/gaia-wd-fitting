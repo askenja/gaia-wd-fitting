{
 "cells": [
  {
   "cell_type": "markdown",
   "id": "57c32dd4",
   "metadata": {},
   "source": [
    "## G - RP color Deblending \n",
    "\n",
    "**Input**: \n",
    "\n",
    "- (All) Gaia DR3 stars pre-selected for the local 50-pc sphere\n",
    "\n",
    "- Gaia catalog of white dwarfs by Fusillo+21, GCWD21, \n",
    "with new 33 local objects as identified by Golovin+24\n",
    "\n",
    "**Method**: Function for de-blending adopted from [A. Golovin's code](https://github.com/AlexGolovin/gaiaedr3_g_rp_synthetic.git). Also see Golovin+23 (Appendix B). \n",
    "\n",
    "**Output**: Input tables with a new deblended G-RP column. \n"
   ]
  },
  {
   "cell_type": "code",
   "execution_count": 4,
   "id": "702ceb55",
   "metadata": {},
   "outputs": [],
   "source": [
    "import numpy as np\n",
    "from astropy.table import Table\n",
    "\n",
    "from deblending import g_rp_synth"
   ]
  },
  {
   "cell_type": "code",
   "execution_count": 5,
   "id": "acf83a96",
   "metadata": {},
   "outputs": [],
   "source": [
    "\n",
    "def apply_deblending(data, g_bp_rp, flux_cut=False):\n",
    "\n",
    "    # Read catalog and G, G_BP, G_RP columns\n",
    "    input_table = Table.read(data)\n",
    "\n",
    "    g_column = g_bp_rp['g']\n",
    "    bp_column = g_bp_rp['bp']\n",
    "    rp_column = g_bp_rp['rp']\n",
    "\n",
    "    # Create new column and fill it with the usual color \n",
    "    input_table['g_rp_deblended'] = input_table[g_column] - input_table[rp_column]\n",
    "\n",
    "    print('Data: ',data)\n",
    "    print('Total number of sources:', len(input_table['g_rp_deblended']))\n",
    "\n",
    "    # Create mask for applying de-blending function\n",
    "    # Requirements: \n",
    "    # - 0 < BP-RP < 4.25\n",
    "    # - if possible, only sources with good flux-over-error (e.g. > 20)\n",
    "\n",
    "    if flux_cut: # for Gaia source stars\n",
    "        mask = np.where((input_table[bp_column] - input_table[rp_column] > 0)\n",
    "                        & (input_table[bp_column] - input_table[rp_column] < 4.25)\n",
    "                        & (input_table['phot_bp_mean_flux_over_error'] > 20)  # use this for MS stars!\n",
    "                        & (input_table['phot_rp_mean_flux_over_error'] > 20)  \n",
    "                        )[0]\n",
    "    else: # for WD sample\n",
    "        mask = np.where((input_table[bp_column] - input_table[rp_column] > 0)\n",
    "                        & (input_table[bp_column] - input_table[rp_column] < 4.25) \n",
    "                        )[0]\n",
    "    print('Sources for de-blending:', len(mask), ' - ', \n",
    "        round(len(mask)/len(input_table['g_rp_deblended'])*100,1), '%')\n",
    "    \n",
    "    # Sort \n",
    "    # BP-RP array needs to be in strictly increasing order!\n",
    "    bp_rp_masked = np.array(input_table[bp_column] - input_table[rp_column])[mask]\n",
    "    ind_sorted = bp_rp_masked.argsort()\n",
    "    bp_rp_sorted = bp_rp_masked[ind_sorted]\n",
    "    sorted_indices = mask[ind_sorted]\n",
    "\n",
    "    # Calling the de-blending function:\n",
    "    g_rp_deblended = g_rp_synth(bp_rp_sorted)\n",
    "    print('Deblending applied')\n",
    "\n",
    "    # Update the new color column and save\n",
    "    # The new color column contains de-blended color for all sources for which the approach is aplicable, \n",
    "    # the rest of sources have a usual G-RP color. \n",
    "\n",
    "    input_table['g_rp_deblended'][sorted_indices] = g_rp_deblended\n",
    "    filename = '.'.join(data.split('.')[:-1]) + '_deblended.' + data.split('.')[-1]\n",
    "    input_table.write(filename, overwrite=True)\n",
    "    print('Saved to ', filename)\n",
    "    \n"
   ]
  },
  {
   "cell_type": "code",
   "execution_count": 6,
   "id": "b2f6dfc8",
   "metadata": {},
   "outputs": [
    {
     "name": "stdout",
     "output_type": "stream",
     "text": [
      "Data:  ./data/GCWD21+Golovin24_source.csv\n",
      "Total number of sources: 1280296\n",
      "Sources for de-blending: 1134834  -  88.6 %\n",
      "Deblending applied\n",
      "Saved to  ./data/GCWD21+Golovin24_source_deblended.csv\n"
     ]
    }
   ],
   "source": [
    "# Apply to WD catalog \n",
    "\n",
    "data = \"./data/GCWD21+Golovin24_source.csv\"\n",
    "g_bp_rp = {'g':'Gmag','bp':'BPmag','rp':'RPmag'}\n",
    "\n",
    "apply_deblending(data, g_bp_rp)\n"
   ]
  },
  {
   "cell_type": "code",
   "execution_count": 7,
   "id": "aedb9e52",
   "metadata": {},
   "outputs": [
    {
     "name": "stdout",
     "output_type": "stream",
     "text": [
      "Data:  ./data/GDR3_50pc_preselection_source.csv\n",
      "Total number of sources: 107487\n",
      "Sources for de-blending: 39114  -  36.4 %\n",
      "Deblending applied\n",
      "Saved to  ./data/GDR3_50pc_preselection_source_deblended.csv\n"
     ]
    }
   ],
   "source": [
    "# Apply to all Gaia stars 50-pc sample\n",
    "\n",
    "data = \"./data/GDR3_50pc_preselection_source.csv\"\n",
    "g_bp_rp = {'g':'phot_g_mean_mag','bp':'phot_bp_mean_mag','rp':'phot_rp_mean_mag'}\n",
    "\n",
    "apply_deblending(data, g_bp_rp, flux_cut=True)\n"
   ]
  },
  {
   "cell_type": "code",
   "execution_count": null,
   "id": "70562518",
   "metadata": {},
   "outputs": [],
   "source": []
  }
 ],
 "metadata": {
  "kernelspec": {
   "display_name": "env01",
   "language": "python",
   "name": "python3"
  },
  "language_info": {
   "codemirror_mode": {
    "name": "ipython",
    "version": 3
   },
   "file_extension": ".py",
   "mimetype": "text/x-python",
   "name": "python",
   "nbconvert_exporter": "python",
   "pygments_lexer": "ipython3",
   "version": "3.13.5"
  }
 },
 "nbformat": 4,
 "nbformat_minor": 5
}
